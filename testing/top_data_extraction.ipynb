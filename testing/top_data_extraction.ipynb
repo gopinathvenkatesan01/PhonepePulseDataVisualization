{
 "cells": [
  {
   "cell_type": "code",
   "execution_count": 2,
   "metadata": {},
   "outputs": [],
   "source": [
    "import json\n",
    "import pandas as pd\n",
    "import os\n",
    "top_transcn_path='D:/Learning/Projects/PhonepePulseDataVisualization/src/phonepeData/data/top/transaction/country/india/'\n",
    "\n",
    "top_transcn_by_st = {'State': [], 'Year': [], 'Quarter': [], 'Transaction_count': [],\n",
    "            'Transaction_amount': []}\n",
    "top_transcn_by_dt = {'District': [], 'Year': [], 'Quarter': [], 'Transaction_count': [],\n",
    "            'Transaction_amount': []}\n",
    "top_transcn_by_pcd = {'PinCode': [], 'Year': [], 'Quarter': [], 'Transaction_count': [],\n",
    "            'Transaction_amount': []}\n",
    "\n",
    "year_list = os.listdir(top_transcn_path)\n",
    "\n",
    "for year in year_list:\n",
    "    if year  == 'state':\n",
    "        continue\n",
    "    path = top_transcn_path+year+'/'\n",
    "    quarter_list = os.listdir(path)\n",
    "    for quarter in quarter_list:\n",
    "        qtr_path = path+quarter\n",
    "        D = open(qtr_path,'r')\n",
    "        data =json.load(D)\n",
    "        for value in  data['data']['states']:\n",
    "            Name = value['entityName']\n",
    "            count = value['metric']['count']\n",
    "            amount=(value['metric']['amount'])\n",
    "            top_transcn_by_st['Transaction_amount'].append(amount)\n",
    "            top_transcn_by_st['Transaction_count'].append(count)\n",
    "            top_transcn_by_st['State'].append(Name)\n",
    "            top_transcn_by_st['Year'].append(year)\n",
    "            top_transcn_by_st['Quarter'].append(int(quarter.strip('.json')))\n",
    "        for value in  data['data']['districts']:\n",
    "            Name = value['entityName']\n",
    "            count = value['metric']['count']\n",
    "            amount=(value['metric']['amount'])\n",
    "            top_transcn_by_dt['Transaction_amount'].append(amount)\n",
    "            top_transcn_by_dt['Transaction_count'].append(count)\n",
    "            top_transcn_by_dt['District'].append(Name)\n",
    "            top_transcn_by_dt['Year'].append(year)\n",
    "            top_transcn_by_dt['Quarter'].append(int(quarter.strip('.json')))\n",
    "        for value in  data['data']['states']:\n",
    "            Name = value['entityName']\n",
    "            count = value['metric']['count']\n",
    "            amount=(value['metric']['amount'])\n",
    "            top_transcn_by_pcd['Transaction_amount'].append(amount)\n",
    "            top_transcn_by_pcd['Transaction_count'].append(count)\n",
    "            top_transcn_by_pcd['PinCode'].append(Name)\n",
    "            top_transcn_by_pcd['Year'].append(year)\n",
    "            top_transcn_by_pcd['Quarter'].append(int(quarter.strip('.json')))\n",
    "\n",
    "top_transcation_st_df = pd.DataFrame(top_transcn_by_st) \n",
    "top_transcation_dt_df = pd.DataFrame(top_transcn_by_dt) \n",
    "top_transcation_pcd_df = pd.DataFrame(top_transcn_by_pcd) "
   ]
  },
  {
   "cell_type": "code",
   "execution_count": 4,
   "metadata": {},
   "outputs": [
    {
     "data": {
      "text/plain": [
       "District               object\n",
       "Year                   object\n",
       "Quarter                 int64\n",
       "Transaction_count       int64\n",
       "Transaction_amount    float64\n",
       "dtype: object"
      ]
     },
     "execution_count": 4,
     "metadata": {},
     "output_type": "execute_result"
    }
   ],
   "source": [
    "top_transcation_dt_df.dtypes"
   ]
  },
  {
   "cell_type": "code",
   "execution_count": 3,
   "metadata": {},
   "outputs": [
    {
     "data": {
      "text/html": [
       "<div>\n",
       "<style scoped>\n",
       "    .dataframe tbody tr th:only-of-type {\n",
       "        vertical-align: middle;\n",
       "    }\n",
       "\n",
       "    .dataframe tbody tr th {\n",
       "        vertical-align: top;\n",
       "    }\n",
       "\n",
       "    .dataframe thead th {\n",
       "        text-align: right;\n",
       "    }\n",
       "</style>\n",
       "<table border=\"1\" class=\"dataframe\">\n",
       "  <thead>\n",
       "    <tr style=\"text-align: right;\">\n",
       "      <th></th>\n",
       "      <th>District</th>\n",
       "      <th>Year</th>\n",
       "      <th>Quarter</th>\n",
       "      <th>Transaction_count</th>\n",
       "      <th>Transaction_amount</th>\n",
       "    </tr>\n",
       "  </thead>\n",
       "  <tbody>\n",
       "    <tr>\n",
       "      <th>0</th>\n",
       "      <td>bengaluru urban</td>\n",
       "      <td>2018</td>\n",
       "      <td>1</td>\n",
       "      <td>8306513</td>\n",
       "      <td>1.416275e+10</td>\n",
       "    </tr>\n",
       "    <tr>\n",
       "      <th>1</th>\n",
       "      <td>pune</td>\n",
       "      <td>2018</td>\n",
       "      <td>1</td>\n",
       "      <td>3842929</td>\n",
       "      <td>5.378982e+09</td>\n",
       "    </tr>\n",
       "    <tr>\n",
       "      <th>2</th>\n",
       "      <td>central delhi</td>\n",
       "      <td>2018</td>\n",
       "      <td>1</td>\n",
       "      <td>2997714</td>\n",
       "      <td>4.312145e+09</td>\n",
       "    </tr>\n",
       "    <tr>\n",
       "      <th>3</th>\n",
       "      <td>mumbai</td>\n",
       "      <td>2018</td>\n",
       "      <td>1</td>\n",
       "      <td>2671029</td>\n",
       "      <td>3.923117e+09</td>\n",
       "    </tr>\n",
       "    <tr>\n",
       "      <th>4</th>\n",
       "      <td>chennai</td>\n",
       "      <td>2018</td>\n",
       "      <td>1</td>\n",
       "      <td>2656230</td>\n",
       "      <td>4.281138e+09</td>\n",
       "    </tr>\n",
       "  </tbody>\n",
       "</table>\n",
       "</div>"
      ],
      "text/plain": [
       "          District  Year  Quarter  Transaction_count  Transaction_amount\n",
       "0  bengaluru urban  2018        1            8306513        1.416275e+10\n",
       "1             pune  2018        1            3842929        5.378982e+09\n",
       "2    central delhi  2018        1            2997714        4.312145e+09\n",
       "3           mumbai  2018        1            2671029        3.923117e+09\n",
       "4          chennai  2018        1            2656230        4.281138e+09"
      ]
     },
     "execution_count": 3,
     "metadata": {},
     "output_type": "execute_result"
    }
   ],
   "source": [
    "top_transcation_dt_df.head()"
   ]
  },
  {
   "cell_type": "code",
   "execution_count": null,
   "metadata": {},
   "outputs": [],
   "source": []
  }
 ],
 "metadata": {
  "kernelspec": {
   "display_name": ".venv",
   "language": "python",
   "name": "python3"
  },
  "language_info": {
   "codemirror_mode": {
    "name": "ipython",
    "version": 3
   },
   "file_extension": ".py",
   "mimetype": "text/x-python",
   "name": "python",
   "nbconvert_exporter": "python",
   "pygments_lexer": "ipython3",
   "version": "3.12.1"
  }
 },
 "nbformat": 4,
 "nbformat_minor": 2
}
